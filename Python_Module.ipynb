{
 "cells": [
  {
   "cell_type": "code",
   "execution_count": 1,
   "id": "b0d70eaa",
   "metadata": {},
   "outputs": [],
   "source": [
    "def hello(name):\n",
    "    print(f'{name}님 안녕하세요')\n",
    "def nicemeet(name):\n",
    "    print(f'{name}님 반갑습니다.')"
   ]
  },
  {
   "cell_type": "code",
   "execution_count": 2,
   "id": "a1719b14",
   "metadata": {},
   "outputs": [
    {
     "name": "stdout",
     "output_type": "stream",
     "text": [
      "홍길동님 안녕하세요\n",
      "홍길동님 반갑습니다.\n"
     ]
    }
   ],
   "source": [
    "hello('홍길동')\n",
    "nicemeet('홍길동')"
   ]
  },
  {
   "cell_type": "code",
   "execution_count": 3,
   "id": "12885f98",
   "metadata": {},
   "outputs": [
    {
     "ename": "ModuleNotFoundError",
     "evalue": "No module named 'greet'",
     "output_type": "error",
     "traceback": [
      "\u001b[1;31m---------------------------------------------------------------------------\u001b[0m",
      "\u001b[1;31mModuleNotFoundError\u001b[0m                       Traceback (most recent call last)",
      "Cell \u001b[1;32mIn[3], line 1\u001b[0m\n\u001b[1;32m----> 1\u001b[0m \u001b[38;5;28;01mimport\u001b[39;00m \u001b[38;5;21;01mgreet\u001b[39;00m\n",
      "\u001b[1;31mModuleNotFoundError\u001b[0m: No module named 'greet'"
     ]
    }
   ],
   "source": [
    "import greet"
   ]
  },
  {
   "cell_type": "code",
   "execution_count": null,
   "id": "99404762",
   "metadata": {},
   "outputs": [],
   "source": [
    "greet.hello('김연아')\n",
    "greet.nicemeet('김연아')"
   ]
  },
  {
   "cell_type": "code",
   "execution_count": 4,
   "id": "eebd033e",
   "metadata": {},
   "outputs": [
    {
     "ename": "ModuleNotFoundError",
     "evalue": "No module named 'greet'",
     "output_type": "error",
     "traceback": [
      "\u001b[1;31m---------------------------------------------------------------------------\u001b[0m",
      "\u001b[1;31mModuleNotFoundError\u001b[0m                       Traceback (most recent call last)",
      "Cell \u001b[1;32mIn[4], line 1\u001b[0m\n\u001b[1;32m----> 1\u001b[0m \u001b[38;5;28;01mfrom\u001b[39;00m \u001b[38;5;21;01mgreet\u001b[39;00m \u001b[38;5;28;01mimport\u001b[39;00m hello, nicemeet\n",
      "\u001b[1;31mModuleNotFoundError\u001b[0m: No module named 'greet'"
     ]
    }
   ],
   "source": [
    "from greet import hello, nicemeet #using namesapce 역할 모듈에 있는 함수를 바로 쓸수 있음"
   ]
  },
  {
   "cell_type": "code",
   "execution_count": 4,
   "id": "4f8eaee2",
   "metadata": {},
   "outputs": [
    {
     "name": "stdout",
     "output_type": "stream",
     "text": [
      "홍길동님 안녕하세요\n",
      "홍길동님 반갑습니다.\n"
     ]
    }
   ],
   "source": [
    "hello('홍길동')\n",
    "nicemeet('홍길동')"
   ]
  },
  {
   "cell_type": "code",
   "execution_count": null,
   "id": "618a3ea4",
   "metadata": {},
   "outputs": [],
   "source": []
  },
  {
   "cell_type": "code",
   "execution_count": 6,
   "id": "0507ae7c",
   "metadata": {},
   "outputs": [],
   "source": [
    "import math"
   ]
  },
  {
   "cell_type": "code",
   "execution_count": 10,
   "id": "a9dcd3c2",
   "metadata": {},
   "outputs": [
    {
     "name": "stdout",
     "output_type": "stream",
     "text": [
      "3\n",
      "4\n",
      "4\n",
      "24\n"
     ]
    }
   ],
   "source": [
    "a= 3.6\n",
    "print(math.floor(a)) #내림\n",
    "print(math.ceil(a)) #올림\n",
    "print(round(a)) #반올림\n",
    "print(math.factorial(round(a))) #4!"
   ]
  },
  {
   "cell_type": "code",
   "execution_count": 13,
   "id": "2243e06f",
   "metadata": {},
   "outputs": [
    {
     "name": "stdout",
     "output_type": "stream",
     "text": [
      "0.7071067811865476\n",
      "6.123233995736766e-17\n",
      "0.9999999999999999\n"
     ]
    }
   ],
   "source": [
    "b = math.sin(math.pi/4)\n",
    "print(b)\n",
    "b = math.cos(math.pi/2)\n",
    "print(b)\n",
    "b = math.tan(math.pi/4)\n",
    "print(b)"
   ]
  },
  {
   "cell_type": "code",
   "execution_count": 17,
   "id": "78380387",
   "metadata": {},
   "outputs": [
    {
     "name": "stdout",
     "output_type": "stream",
     "text": [
      "8.0\n",
      "12.0\n",
      "3.0\n"
     ]
    }
   ],
   "source": [
    "c = math.pow(2,3) #거듭제곱\n",
    "print(c)\n",
    "c = math.sqrt(144) #루트\n",
    "print(c)\n",
    "c = math.log10(1000) # 로그10\n",
    "print(c)"
   ]
  },
  {
   "cell_type": "code",
   "execution_count": 18,
   "id": "8a8b49f3",
   "metadata": {},
   "outputs": [],
   "source": [
    "import random"
   ]
  },
  {
   "cell_type": "code",
   "execution_count": 39,
   "id": "3a96e905",
   "metadata": {},
   "outputs": [
    {
     "name": "stdout",
     "output_type": "stream",
     "text": [
      "가위 바위 보 :보\n",
      "나 : 보\n",
      "com : 보\n",
      "무승부\n",
      "가위 바위 보 :바위\n",
      "나 : 바위\n",
      "com : 가위\n",
      "usr 승리\n",
      "가위 바위 보 :보\n",
      "나 : 보\n",
      "com : 가위\n",
      "com 승리\n",
      "가위 바위 보 :q\n",
      "나 : q\n",
      "com : 가위\n"
     ]
    }
   ],
   "source": [
    "\n",
    "\n",
    "while True:\n",
    "    com_num = random.randint(1,3) # 1 = 가위 2 = 바위 3 = 보\n",
    "    com = ''\n",
    "    if(com_num == 1):\n",
    "        com = '가위'\n",
    "    elif(com_num==2):\n",
    "        com = '바위'\n",
    "    elif(com_num==3):\n",
    "        com = '보'\n",
    "        \n",
    "    usr = input(\"가위 바위 보 :\")\n",
    "    \n",
    "    print(f'나 : {usr}')\n",
    "    print(f'com : {com}')\n",
    "    \n",
    "    \n",
    "    if (usr == 'q'):\n",
    "        break\n",
    "    if(usr == '가위'):\n",
    "        if(com_num == 1):\n",
    "            print('무승부')\n",
    "        elif(com_num == 2):\n",
    "            print('com 승리')\n",
    "        elif(com_num == 3):\n",
    "            print('usr 승리')\n",
    "    elif(usr == '바위'):\n",
    "        if(com_num == 1):\n",
    "            print('usr 승리')\n",
    "        elif(com_num == 2):\n",
    "            print('무승부')\n",
    "        elif(com_num == 3):\n",
    "            print('com 승리')\n",
    "    elif(usr == '보'):\n",
    "        if(com_num == 1):\n",
    "            print('com 승리')\n",
    "        elif(com_num == 2):\n",
    "            print('usr 승리')\n",
    "        elif(com_num == 3):\n",
    "            print('무승부')\n",
    "    else:\n",
    "        usr_num = '잘못 입력'\n",
    "        print(usr_num)\n",
    "        "
   ]
  },
  {
   "cell_type": "code",
   "execution_count": null,
   "id": "e9371810",
   "metadata": {},
   "outputs": [],
   "source": []
  },
  {
   "cell_type": "markdown",
   "id": "d97d8185",
   "metadata": {},
   "source": [
    "# Datetime module"
   ]
  },
  {
   "cell_type": "code",
   "execution_count": 1,
   "id": "7b5baa4c",
   "metadata": {},
   "outputs": [],
   "source": [
    "from datetime import datetime\n",
    "import time"
   ]
  },
  {
   "cell_type": "code",
   "execution_count": 7,
   "id": "d9de933e",
   "metadata": {},
   "outputs": [
    {
     "name": "stdout",
     "output_type": "stream",
     "text": [
      "2023-03-16 13:32:06.287872\n",
      "<class 'datetime.datetime'>\n",
      "Year is 2023\n",
      "Month is 3\n",
      "Day is 16\n",
      "Hour is 13\n",
      "Minute is 32\n",
      "Second is 6\n",
      "Microsecond is 287872\n",
      "==================================================\n",
      "Year is 2023\n",
      "Month is 3\n",
      "Day is 16\n",
      "Hour is 13\n",
      "Minute is 32\n",
      "Second is 16\n",
      "Microsecond is 302724\n",
      "0:00:10.014852\n"
     ]
    }
   ],
   "source": [
    "pre = datetime.now()\n",
    "print(pre)\n",
    "print(type(pre))\n",
    "print(f'Year is {pre.year}')\n",
    "print(f'Month is {pre.month}')\n",
    "print(f'Day is {pre.day}')\n",
    "print(f'Hour is {pre.hour}')\n",
    "print(f'Minute is {pre.minute}')\n",
    "print(f'Second is {pre.second}')\n",
    "print(f'Microsecond is {pre.microsecond}')\n",
    "print(\"=\"*50)\n",
    "time.sleep(10)\n",
    "\n",
    "now = datetime.now()\n",
    "print(f'Year is {now.year}')\n",
    "print(f'Month is {now.month}')\n",
    "print(f'Day is {now.day}')\n",
    "print(f'Hour is {now.hour}')\n",
    "print(f'Minute is {now.minute}')\n",
    "print(f'Second is {now.second}')\n",
    "print(f'Microsecond is {now.microsecond}')\n",
    "\n",
    "print(f'{now - pre}')"
   ]
  },
  {
   "cell_type": "markdown",
   "id": "1a0c9181",
   "metadata": {},
   "source": []
  },
  {
   "cell_type": "markdown",
   "id": "3be50af4",
   "metadata": {},
   "source": [
    "# Logger Function 작성\n",
    "형식 ... csv \\\n",
    "시간&nbsp;&nbsp;&nbsp;&nbsp;&nbsp;&nbsp;&nbsp;&nbsp;&nbsp;&nbsp;&nbsp;&nbsp;&nbsp;&nbsp;&nbsp;&nbsp;&nbsp;&nbsp;&nbsp;&nbsp;&nbsp;&nbsp;&nbsp;&nbsp;&nbsp;&nbsp;&nbsp;&nbsp;&nbsp;&nbsp;&nbsp;&nbsp;&nbsp;&nbsp;&nbsp;&nbsp;&nbsp;&nbsp;&nbsp;&nbsp;사람&nbsp;&nbsp;&nbsp;&nbsp;&nbsp;&nbsp;AI&nbsp;&nbsp;&nbsp;&nbsp;&nbsp;승리\\\n",
    "2023-03-16 13:28:27.230354  가위 vs  보&nbsp;&nbsp;&nbsp;&nbsp;&nbsp;사람\\\n",
    "2023-03-16 13:28:27.230354  바위 vs  바위&nbsp;무승부\\\n",
    "2023-03-16 13:28:27.230354  바위 vs  보&nbsp;&nbsp;&nbsp;&nbsp;&nbsp;AI \\\n",
    "2023-03-16 13:28:27.230354  가위 vs  보&nbsp;&nbsp;&nbsp;&nbsp;사람\n",
    "\n",
    "file I/O</br>\n",
    "function(사람, AI)\n",
    "    return 승리자\n",
    "    \n",
    "while\n",
    "    input 사람\n",
    "    random AI\n",
    "    call function()\n",
    "    save log"
   ]
  },
  {
   "cell_type": "code",
   "execution_count": 1,
   "id": "b54aac35",
   "metadata": {},
   "outputs": [],
   "source": [
    "from datetime import datetime\n",
    "import random\n",
    "\n",
    "def win(person,StrAI):        \n",
    "    if(person == '가위'):\n",
    "        if(StrAI=='가위'):\n",
    "            return '무승부'\n",
    "        elif(StrAI == '바위'):\n",
    "            return 'AI'\n",
    "        elif(StrAI == '보'):\n",
    "            return '사람'\n",
    "    elif(person == '바위'):\n",
    "        if(StrAI=='가위'):\n",
    "            return '사람'\n",
    "        elif(StrAI == '바위'):\n",
    "            return '무승부'\n",
    "        elif(StrAI == '보'):\n",
    "            return 'AI'\n",
    "    elif(person == '보'):\n",
    "        if(StrAI=='가위'):\n",
    "            return 'AI'\n",
    "        elif(StrAI == '바위'):\n",
    "            return '사람'\n",
    "        elif(StrAI == '보'):\n",
    "            return '무승부'\n",
    "\n",
    "        \n",
    "file = open('logging.csv','w')        \n",
    "file.write('시간,,,사람,AI,승리\\n')\n",
    "        \n",
    "while True:        \n",
    "    AI = random.randint(1,3)\n",
    "    StrAI=''\n",
    "    if(AI==1):\n",
    "        StrAI = '가위'\n",
    "    elif(AI == 2):\n",
    "        StrAI = '바위'\n",
    "    elif(AI == 3 ):\n",
    "        StrAI = '보'\n",
    "    person = input(\"가위 바위 보\\n\")\n",
    "    if(person=='q'):break\n",
    "    if(person=='가위' or person=='바위'or person=='보'):\n",
    "        winner = win(person,StrAI)        \n",
    "        file.write(f' {datetime.now()},,,{person},{StrAI},{winner}\\n')\n",
    "    else:\n",
    "        print('다시')\n",
    "    \n",
    "file.close()"
   ]
  },
  {
   "cell_type": "markdown",
   "id": "f896445b",
   "metadata": {},
   "source": [
    "# 코딩....? 제일 먼저 무엇을 시작해야 하나요?"
   ]
  },
  {
   "cell_type": "code",
   "execution_count": null,
   "id": "64023e07",
   "metadata": {},
   "outputs": [],
   "source": []
  },
  {
   "cell_type": "code",
   "execution_count": 6,
   "id": "89bcf5fa",
   "metadata": {},
   "outputs": [
    {
     "name": "stdout",
     "output_type": "stream",
     "text": [
      "가위, 바위, 보 \n",
      "가위, 바위, 보 \n",
      "가위, 바위, 보 \n",
      "가위, 바위, 보 \n",
      "가위, 바위, 보 q\n"
     ]
    }
   ],
   "source": [
    "from datetime import datetime\n",
    "import random\n",
    "\n",
    "file = open('log.csv','w')\n",
    "file.write('시간,,,사람,AI,승리\\n')\n",
    "file.close()\n",
    "\n",
    "file = open('log.csv','a')\n",
    "\n",
    "for i in range(5):\n",
    "    person = input('가위, 바위, 보 ')\n",
    "    if person == StrAI:\n",
    "        winner = \"무승부\"\n",
    "    else:\n",
    "        if person == '가위' and StrAI=='바위':\n",
    "            winner = 'AI'\n",
    "        elif person == '가위' and StrAI=='보':\n",
    "            winner = '사람'\n",
    "           \n",
    "    \n",
    "    winner = win(person,StrAI)\n",
    "    file.write(f' {datetime.now()},,,{person},{StrAI},{winner}\\n')\n",
    "file.close()"
   ]
  },
  {
   "cell_type": "code",
   "execution_count": 7,
   "id": "67b2caaa",
   "metadata": {},
   "outputs": [
    {
     "name": "stdout",
     "output_type": "stream",
     "text": [
      "Thank you chapKMJ\n"
     ]
    }
   ],
   "source": [
    "print('Thank you chapKMJ')"
   ]
  },
  {
   "cell_type": "code",
   "execution_count": 8,
   "id": "1b7c20ef",
   "metadata": {},
   "outputs": [
    {
     "name": "stdout",
     "output_type": "stream",
     "text": [
      "1st 입력 a : 7\n",
      "2nd 입력 b : 8\n",
      "a: 7,b: 8\n",
      "a+b = 7+8 = 15 = c\n",
      "b+a = 8+7 = 15 = d\n",
      "덧셈의 교환 법칙은 성립한다.\n"
     ]
    }
   ],
   "source": [
    "a = int(input(\"1st 입력 a : \"))\n",
    "b = int(input(\"2nd 입력 b : \"))\n",
    "\n",
    "c = a+b\n",
    "d = b+a\n",
    "\n",
    "if(c == d):\n",
    "    print(f'a: {a},b: {b}')\n",
    "    print(f'a+b = {a}+{b} = {c} = c')\n",
    "    print(f'b+a = {b}+{a} = {d} = d')\n",
    "    print('덧셈의 교환 법칙은 성립한다.')\n",
    "else:\n",
    "    print('그럴일은 없습니다.')"
   ]
  },
  {
   "cell_type": "code",
   "execution_count": null,
   "id": "b10b91a9",
   "metadata": {},
   "outputs": [],
   "source": []
  },
  {
   "cell_type": "markdown",
   "id": "3f45fafc",
   "metadata": {},
   "source": [
    "# 바코드 암호화 / 복호화 코드를 작성해줘\n",
    "#### 0 - ||:::\n",
    "#### 1 - :::||\n",
    "#### 2 - ::|:|\n",
    "#### 3 - ::||:\n",
    "#### 4 - :|::|\n",
    "#### 5 - :|:|:\n",
    "#### 6 - :||::\n",
    "#### 7 - |:::|\n",
    "#### 8 - |::|:\n",
    "#### 9 - |:|::"
   ]
  },
  {
   "cell_type": "code",
   "execution_count": 51,
   "id": "8698dfcb",
   "metadata": {},
   "outputs": [],
   "source": [
    "# def Itob(num):\n",
    "#     if(number == '0'):\n",
    "#         return '||:::'\n",
    "#     elif(number == '1'):\n",
    "#         return ':::||'\n",
    "#     elif(number == '2'):\n",
    "#         return '::|:|'\n",
    "#     elif(number == '3'):\n",
    "#         return '::||:'\n",
    "#     elif(number == '4'):\n",
    "#         return ':|::|'\n",
    "#     elif(number == '5'):\n",
    "#         return ':|:|:'\n",
    "#     elif(number == '6'):\n",
    "#         return ':||::'\n",
    "#     elif(number == '7'):\n",
    "#         return '|:::|'\n",
    "#     elif(number == '8'):\n",
    "#         return '|::|:'\n",
    "#     elif(number == '9'):\n",
    "#         return '|:|::'\n",
    "# def btoI(b):\n",
    "#     if(b == '||:::'):\n",
    "#         return '0'\n",
    "#     elif(b == ':::||'):\n",
    "#         return '1'\n",
    "#     elif(b == '::|:|'):\n",
    "#         return '2'\n",
    "#     elif(b == '::||:'):\n",
    "#         return '3' \n",
    "#     elif(b == ':|::|'):\n",
    "#         return '4'\n",
    "#     elif(b == ':|:|:'):\n",
    "#         return '5' \n",
    "#     elif(b == ':||::'):\n",
    "#         return '6'\n",
    "#     elif(b == '|:::|'):\n",
    "#         return '7'\n",
    "#     elif(b =='|::|:'):\n",
    "#         return '8'\n",
    "#     elif(b == '|:|::'):\n",
    "#         return '9' \n"
   ]
  },
  {
   "cell_type": "code",
   "execution_count": 2,
   "id": "e3632510",
   "metadata": {},
   "outputs": [],
   "source": [
    "\n",
    "code_dict = {'0': '||:::', '1': ':::||', '2': '::|:|', '3': '::||:', '4': ':|::|', '5': ':|:|:',\\\n",
    "             '6': ':||::', '7': '|:::|', '8': '|::|:', '9': '|:|::'}\n",
    "\n",
    "# Itob 함수 줄이기\n",
    "def Itob(num):\n",
    "    return code_dict.get(num, 'Invalid input')\n",
    "def btoI(b):\n",
    "    for key, value in code_dict.items():\n",
    "        if value == b:\n",
    "            return key\n",
    "    return 'Invalid input'"
   ]
  },
  {
   "cell_type": "code",
   "execution_count": 3,
   "id": "a8c1c0c7",
   "metadata": {},
   "outputs": [
    {
     "name": "stdout",
     "output_type": "stream",
     "text": [
      ":::||::|:|::||:\n",
      "\n",
      "\n",
      ":||:::|:|::|::|\n",
      "\n",
      "\n"
     ]
    }
   ],
   "source": [
    "file = open('log.csv', 'w')\n",
    "file.write('구분,,값,,변환값\\n')\n",
    "while True:\n",
    "    sel = input(\"정수 -> 바코드 변환 - 1 , 바코드 -> 정수 변화 2 , q 입력시 종료 \")\n",
    "    num = 0\n",
    "    numBar =''\n",
    "    bar = ''\n",
    "    numbuf=[]\n",
    "    barstr=''\n",
    "    barbuf=[]\n",
    "    barNum=0\n",
    "    Oldi = 0\n",
    "    strBar=''\n",
    "    num_list=[]\n",
    "    num_str=''\n",
    "    a = ''\n",
    "    \n",
    "    if(sel == 'q'): break\n",
    "    \n",
    "    \n",
    "    if(sel == '1'):\n",
    "        num = input(\"정수 입력 : \")\n",
    "        StrNum=str(num)\n",
    "        list_num = list(StrNum)\n",
    "        for number in list_num:\n",
    "            a = Itob(number)\n",
    "            numbuf.append(a)\n",
    "        barstr = ''.join(str(s) for s in numbuf)\n",
    "        print(barstr)\n",
    "        print('\\n')\n",
    "        file.write(f'숫자,,{num},,{barstr}\\n')\n",
    "    elif(sel == '2'):\n",
    "        bar = str(input(\"바코드 입력\"))\n",
    "        for i in range(0, len(bar)+1): #<= 같으려면 len(bar)+1\n",
    "            if ((i%5==0 and i != 0) ):\n",
    "                #print(f'{i}')\n",
    "                barbuf.append(bar[Oldi:i])\n",
    "                Oldi=i\n",
    "        #print(f'barbuf -> {barbuf}')\n",
    "        for b in barbuf:\n",
    "            strBar =  btoI(b)\n",
    "            num_list.append(strBar)\n",
    "        num_str = ''.join(str(s) for s in num_list)\n",
    "        print(num_str)\n",
    "        file.write(f'바코드,,{bar},,{num_str}\\n')\n",
    "\n",
    "file.close()"
   ]
  },
  {
   "cell_type": "markdown",
   "id": "a2d8e716",
   "metadata": {},
   "source": []
  },
  {
   "cell_type": "markdown",
   "id": "d40426a5",
   "metadata": {},
   "source": [
    "# 영화관 티켓 자판기"
   ]
  },
  {
   "cell_type": "code",
   "execution_count": 3,
   "id": "8a248b34",
   "metadata": {
    "scrolled": true
   },
   "outputs": [
    {
     "name": "stdout",
     "output_type": "stream",
     "text": [
      "Requirement already satisfied: pandas in c:\\users\\iot15\\anaconda3\\envs\\py39\\lib\\site-packages (1.5.3)\n",
      "Requirement already satisfied: pytz>=2020.1 in c:\\users\\iot15\\anaconda3\\envs\\py39\\lib\\site-packages (from pandas) (2022.7.1)\n",
      "Requirement already satisfied: python-dateutil>=2.8.1 in c:\\users\\iot15\\anaconda3\\envs\\py39\\lib\\site-packages (from pandas) (2.8.2)\n",
      "Requirement already satisfied: numpy>=1.20.3 in c:\\users\\iot15\\anaconda3\\envs\\py39\\lib\\site-packages (from pandas) (1.24.2)\n",
      "Requirement already satisfied: six>=1.5 in c:\\users\\iot15\\anaconda3\\envs\\py39\\lib\\site-packages (from python-dateutil>=2.8.1->pandas) (1.16.0)\n"
     ]
    }
   ],
   "source": [
    "!python -m pip install pandas\n"
   ]
  },
  {
   "cell_type": "code",
   "execution_count": 4,
   "id": "d0129f6f",
   "metadata": {},
   "outputs": [
    {
     "name": "stdout",
     "output_type": "stream",
     "text": [
      "EC : 7000원, RE : 8000원, SP : 10,000원\n",
      "-좌석 배치도\n",
      "    1   2   3   4   5   6   7   8   9  10  11  12\n",
      "A  EC  EC  EC  EC  EC  EC  EC  EC  EC  EC  EC  EC\n",
      "B  EC  EC  EC  EC  EC  EC  EC  EC  EC  EC  EC  EC\n",
      "C  EC  EC  RE  RE  RE  RE  RE  RE  RE  RE  EC  EC\n",
      "D  EC  EC  RE  RE  RE  RE  RE  RE  RE  RE  EC  EC\n",
      "E  EC  EC  RE  RE  RE  RE  RE  RE  RE  RE  EC  EC\n",
      "F  EC  EC  RE  RE  RE  RE  RE  RE  RE  RE  EC  EC\n",
      "G  SP  SP  SP  SP  SP  SP  SP  SP  SP  SP  SP  SP\n",
      "H  SP  SP  SP  SP  SP  SP  SP  SP  SP  SP  SP  SP\n",
      "원하는 좌석 을 선택해주세요(예:F11):F15\n",
      "좌석이 잘못되었습니다. 다시 입력해주세요\n",
      "원하는 좌석 을 선택해주세요(예:F11):A15\n",
      "좌석이 잘못되었습니다. 다시 입력해주세요\n",
      "원하는 좌석 을 선택해주세요(예:F11):A11\n",
      "좌석번호 : A11\n",
      "티켓가격 : 7000원\n",
      "원하는 좌석 을 선택해주세요(예:F11):H7\n",
      "좌석번호 : H7\n",
      "티켓가격 : 10000원\n",
      "원하는 좌석 을 선택해주세요(예:F11):q\n"
     ]
    }
   ],
   "source": [
    "import pandas as ps\n",
    "\n",
    "print('EC : 7000원, RE : 8000원, SP : 10,000원')\n",
    "print('-좌석 배치도')\n",
    "table = ps.read_csv('ticket_table.csv')\n",
    "print(table)\n",
    "# print(table.index.values)\n",
    "# print(table.columns.values)\n",
    "while True:\n",
    "    Rseat = input('원하는 좌석 을 선택해주세요(예:F11):')\n",
    "    if(Rseat == 'q'):break\n",
    "    list_seat = [Rseat[0],Rseat[1:] ]\n",
    "    seat = ''\n",
    "    if int(Rseat[1:]) >= 13:\n",
    "        print('좌석이 잘못되었습니다. 다시 입력해주세요') \n",
    "    else:\n",
    "        seat = table.at[f'{list_seat[0]}',f'{list_seat[1]}']    \n",
    "        print(f'좌석번호 : {str(Rseat)}')\n",
    "        if(seat == 'EC'):\n",
    "            print('티켓가격 : 7000원')\n",
    "        elif(seat == 'RE'):\n",
    "            print('티켓가격 : 8000원')\n",
    "        else:\n",
    "            print('티켓가격 : 10000원')"
   ]
  },
  {
   "cell_type": "code",
   "execution_count": 132,
   "id": "b8705dab",
   "metadata": {},
   "outputs": [
    {
     "name": "stdout",
     "output_type": "stream",
     "text": [
      "\t||  1\t||  2\t||  3\t||  4\t||  5\t||  6\t||  7\t||  8\t||  9\t||  10\t||  11\t||  12\t|\n",
      "----------------------------------------------------------------------------------------------------------\n",
      "|  A\t||  EC\t||  EC\t||  EC\t||  EC\t||  EC\t||  EC\t||  EC\t||  EC\t||  EC\t||  EC\t||  EC\t||  EC\t|\n",
      "----------------------------------------------------------------------------------------------------------\n",
      "|  B\t||  EC\t||  EC\t||  EC\t||  EC\t||  EC\t||  EC\t||  EC\t||  EC\t||  EC\t||  EC\t||  EC\t||  EC\t|\n",
      "----------------------------------------------------------------------------------------------------------\n",
      "|  C\t||  EC\t||  EC\t||  RE\t||  RE\t||  RE\t||  RE\t||  RE\t||  RE\t||  RE\t||  RE\t||  EC\t||  EC\t|\n",
      "----------------------------------------------------------------------------------------------------------\n",
      "|  D\t||  EC\t||  EC\t||  RE\t||  RE\t||  RE\t||  RE\t||  RE\t||  RE\t||  RE\t||  RE\t||  EC\t||  EC\t|\n",
      "----------------------------------------------------------------------------------------------------------\n",
      "|  E\t||  EC\t||  EC\t||  RE\t||  RE\t||  RE\t||  RE\t||  RE\t||  RE\t||  RE\t||  RE\t||  EC\t||  EC\t|\n",
      "----------------------------------------------------------------------------------------------------------\n",
      "|  F\t||  EC\t||  EC\t||  RE\t||  RE\t||  RE\t||  RE\t||  RE\t||  RE\t||  RE\t||  RE\t||  EC\t||  EC\t|\n",
      "----------------------------------------------------------------------------------------------------------\n",
      "|  G\t||  SP\t||  SP\t||  SP\t||  SP\t||  SP\t||  SP\t||  SP\t||  SP\t||  SP\t||  SP\t||  SP\t||  SP\t|\n",
      "----------------------------------------------------------------------------------------------------------\n",
      "|  H\t||  SP\t||  SP\t||  SP\t||  SP\t||  SP\t||  SP\t||  SP\t||  SP\t||  SP\t||  SP\t||  SP\t||  SP\t|\n",
      "좌석 입력A11\n",
      "['A', '11']\n",
      "EC\n",
      "티켓가격 : 7000원\n"
     ]
    }
   ],
   "source": [
    "f = open('ticket_table.csv','r')\n",
    "r= f.readlines()\n",
    "#print(r)\n",
    "r_buf = ''\n",
    "rbuf=''\n",
    "listrbuf = []\n",
    "buffer = []\n",
    "string = ''\n",
    "for i in range(0,len(r)):\n",
    "    if(i == 0 ):\n",
    "        r_buf = r[i].replace('\\n','').split(',')\n",
    "        #print(r_buf)\n",
    "        print('\\t|',end='')\n",
    "        for j in range(0,len(r_buf)):\n",
    "            print(f'|  {r_buf[j]}\\t',end='|')\n",
    "        print('')\n",
    "    else:\n",
    "        print('-----------------------------------------------------'*2)\n",
    "        #print(r[i],end ='')\n",
    "        rbuf = r[i].replace('\\n','').split(',')\n",
    "        for j in range(0,len(rbuf)):\n",
    "            listrbuf.append(rbuf[j])\n",
    "            print(f'|  {rbuf[j]}\\t', end='|')\n",
    "        print('')\n",
    "# print(r_buf)\n",
    "# print(listrbuf)\n",
    "rseat = input(\"좌석 입력\")\n",
    "rseatList = [rseat[0],rseat[1:]]\n",
    "print(rseatList)\n",
    "for i in range(0,len(listrbuf)):\n",
    "    if (rseatList[0] == listrbuf[i]):\n",
    "        buffer = listrbuf[i:i+int(rseatList[1])]    \n",
    "        string = buffer[int(rseatList[1])-1]\n",
    "print(string)\n",
    "if(string == 'EC'):\n",
    "    print('티켓가격 : 7000원')\n",
    "elif(string == 'RE'):\n",
    "    print('티켓가격 : 8000원')\n",
    "else:\n",
    "    print('티켓가격 : 10000원')"
   ]
  },
  {
   "cell_type": "code",
   "execution_count": null,
   "id": "40b6cb90",
   "metadata": {},
   "outputs": [],
   "source": []
  }
 ],
 "metadata": {
  "kernelspec": {
   "display_name": "Python 3 (ipykernel)",
   "language": "python",
   "name": "python3"
  },
  "language_info": {
   "codemirror_mode": {
    "name": "ipython",
    "version": 3
   },
   "file_extension": ".py",
   "mimetype": "text/x-python",
   "name": "python",
   "nbconvert_exporter": "python",
   "pygments_lexer": "ipython3",
   "version": "3.9.16"
  }
 },
 "nbformat": 4,
 "nbformat_minor": 5
}
