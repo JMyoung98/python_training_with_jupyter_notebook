{
 "cells": [
  {
   "cell_type": "code",
   "execution_count": 1,
   "id": "6cfc0569",
   "metadata": {},
   "outputs": [
    {
     "name": "stdout",
     "output_type": "stream",
     "text": [
      "Hello\n"
     ]
    }
   ],
   "source": [
    "print(\"Hello\");"
   ]
  },
  {
   "cell_type": "code",
   "execution_count": 2,
   "id": "1f10c736",
   "metadata": {},
   "outputs": [
    {
     "data": {
      "text/plain": [
       "850"
      ]
     },
     "execution_count": 2,
     "metadata": {},
     "output_type": "execute_result"
    }
   ],
   "source": [
    "10 * 85"
   ]
  },
  {
   "cell_type": "code",
   "execution_count": 3,
   "id": "4bff9b44",
   "metadata": {},
   "outputs": [
    {
     "name": "stdout",
     "output_type": "stream",
     "text": [
      "1070\n"
     ]
    }
   ],
   "source": [
    "a = 850\n",
    "b = 150\n",
    "c = 70\n",
    "print(a+b+c)"
   ]
  },
  {
   "cell_type": "code",
   "execution_count": 4,
   "id": "486a85c8",
   "metadata": {},
   "outputs": [
    {
     "name": "stdout",
     "output_type": "stream",
     "text": [
      "3.3333333333333335\n"
     ]
    }
   ],
   "source": [
    "#// 소수점 절삭 연산자\n",
    "a = 10/3\n",
    "print(a)\n"
   ]
  },
  {
   "cell_type": "code",
   "execution_count": 5,
   "id": "3e72ec67",
   "metadata": {},
   "outputs": [
    {
     "name": "stdout",
     "output_type": "stream",
     "text": [
      "256\n"
     ]
    }
   ],
   "source": [
    "a = 2**8\n",
    "print(a)"
   ]
  },
  {
   "cell_type": "code",
   "execution_count": 6,
   "id": "0b3d776e",
   "metadata": {},
   "outputs": [
    {
     "name": "stdout",
     "output_type": "stream",
     "text": [
      "8\n"
     ]
    }
   ],
   "source": [
    "print(2**3)"
   ]
  },
  {
   "cell_type": "code",
   "execution_count": 7,
   "id": "e9ab94d1",
   "metadata": {},
   "outputs": [
    {
     "name": "stdout",
     "output_type": "stream",
     "text": [
      "a = hello world\n"
     ]
    }
   ],
   "source": [
    "a = 'hello world'\n",
    "print('a = '+str(a))"
   ]
  },
  {
   "cell_type": "code",
   "execution_count": 8,
   "id": "0dd1ac29",
   "metadata": {},
   "outputs": [
    {
     "name": "stdout",
     "output_type": "stream",
     "text": [
      "2019-10-25\n"
     ]
    }
   ],
   "source": [
    "date = '20191025'\n",
    "year = date[0:4]\n",
    "month = date[4:6]\n",
    "day = date[6:]\n",
    "date2 = year + '-' + month +'-' + day\n",
    "print(date2)\n"
   ]
  },
  {
   "cell_type": "code",
   "execution_count": 9,
   "id": "475f9126",
   "metadata": {},
   "outputs": [
    {
     "name": "stdout",
     "output_type": "stream",
     "text": [
      "나는 빨강를 좋아한다\n"
     ]
    }
   ],
   "source": [
    "color = '빨강'\n",
    "fmt = \"나는 %s를 좋아한다\" % color\n",
    "print(fmt)"
   ]
  },
  {
   "cell_type": "code",
   "execution_count": 10,
   "id": "638e4899",
   "metadata": {
    "scrolled": true
   },
   "outputs": [
    {
     "name": "stdout",
     "output_type": "stream",
     "text": [
      "sum : 291 ,avg : 97.000000\n"
     ]
    }
   ],
   "source": [
    "kor = 98\n",
    "eng = 95\n",
    "math = 98\n",
    "sum = kor + eng + math\n",
    "avg =  sum/3\n",
    "fmt = 'sum : %d ,avg : %f' %(sum,avg)\n",
    "print(fmt)"
   ]
  },
  {
   "cell_type": "markdown",
   "id": "5214dc8c",
   "metadata": {},
   "source": [
    "# Tuple(), Llist, Dict"
   ]
  },
  {
   "cell_type": "code",
   "execution_count": 11,
   "id": "619b388d",
   "metadata": {},
   "outputs": [
    {
     "name": "stdout",
     "output_type": "stream",
     "text": [
      "이름입력:\n",
      "name is :\n"
     ]
    }
   ],
   "source": [
    "name = input('이름입력:')\n",
    "print('name is :' + name)"
   ]
  },
  {
   "cell_type": "code",
   "execution_count": 12,
   "id": "91213d56",
   "metadata": {},
   "outputs": [
    {
     "name": "stdout",
     "output_type": "stream",
     "text": [
      "값을 입력하세요\n",
      "\n"
     ]
    }
   ],
   "source": [
    "a = input ('값을 입력하세요')\n",
    "print(a)"
   ]
  },
  {
   "cell_type": "code",
   "execution_count": 13,
   "id": "62458d42",
   "metadata": {},
   "outputs": [
    {
     "name": "stdout",
     "output_type": "stream",
     "text": [
      "첫번째 수\n",
      "두번째 수\n"
     ]
    },
    {
     "ename": "ValueError",
     "evalue": "invalid literal for int() with base 10: ''",
     "output_type": "error",
     "traceback": [
      "\u001b[1;31m---------------------------------------------------------------------------\u001b[0m",
      "\u001b[1;31mValueError\u001b[0m                                Traceback (most recent call last)",
      "Cell \u001b[1;32mIn[13], line 3\u001b[0m\n\u001b[0;32m      1\u001b[0m a \u001b[38;5;241m=\u001b[39m \u001b[38;5;28minput\u001b[39m(\u001b[38;5;124m\"\u001b[39m\u001b[38;5;124m첫번째 수\u001b[39m\u001b[38;5;124m\"\u001b[39m)\n\u001b[0;32m      2\u001b[0m b \u001b[38;5;241m=\u001b[39m \u001b[38;5;28minput\u001b[39m(\u001b[38;5;124m\"\u001b[39m\u001b[38;5;124m두번째 수\u001b[39m\u001b[38;5;124m\"\u001b[39m)\n\u001b[1;32m----> 3\u001b[0m \u001b[38;5;28msum\u001b[39m \u001b[38;5;241m=\u001b[39m \u001b[38;5;28;43mint\u001b[39;49m\u001b[43m(\u001b[49m\u001b[43ma\u001b[49m\u001b[43m)\u001b[49m \u001b[38;5;241m+\u001b[39m \u001b[38;5;28mint\u001b[39m(b)\n\u001b[0;32m      4\u001b[0m sub \u001b[38;5;241m=\u001b[39m \u001b[38;5;28mint\u001b[39m(a) \u001b[38;5;241m-\u001b[39m \u001b[38;5;28mint\u001b[39m(b)\n\u001b[0;32m      5\u001b[0m mul \u001b[38;5;241m=\u001b[39m \u001b[38;5;28mint\u001b[39m(a) \u001b[38;5;241m*\u001b[39m \u001b[38;5;28mint\u001b[39m(b)\n",
      "\u001b[1;31mValueError\u001b[0m: invalid literal for int() with base 10: ''"
     ]
    }
   ],
   "source": [
    "a = input(\"첫번째 수\")\n",
    "b = input(\"두번째 수\")\n",
    "sum = int(a) + int(b)\n",
    "sub = int(a) - int(b)\n",
    "mul = int(a) * int(b)\n",
    "div = int(a) / int(b)\n",
    "\n",
    "print(\"합은\" + str(sum))\n",
    "print(\"차은\" + str(sub))\n",
    "print(\"곱은\" + str(mul))\n",
    "print(\"나누기\" + str(div))\n"
   ]
  },
  {
   "cell_type": "code",
   "execution_count": null,
   "id": "8b6ed0b6",
   "metadata": {},
   "outputs": [],
   "source": [
    "print(\"go to home\")\n",
    "print(\"go to bed\")"
   ]
  },
  {
   "cell_type": "code",
   "execution_count": 14,
   "id": "7f0afacf",
   "metadata": {},
   "outputs": [
    {
     "name": "stdout",
     "output_type": "stream",
     "text": [
      "물건가격\n"
     ]
    },
    {
     "ename": "ValueError",
     "evalue": "invalid literal for int() with base 10: ''",
     "output_type": "error",
     "traceback": [
      "\u001b[1;31m---------------------------------------------------------------------------\u001b[0m",
      "\u001b[1;31mValueError\u001b[0m                                Traceback (most recent call last)",
      "Cell \u001b[1;32mIn[14], line 1\u001b[0m\n\u001b[1;32m----> 1\u001b[0m price \u001b[38;5;241m=\u001b[39m \u001b[38;5;28;43mint\u001b[39;49m\u001b[43m(\u001b[49m\u001b[38;5;28;43minput\u001b[39;49m\u001b[43m(\u001b[49m\u001b[38;5;124;43m'\u001b[39;49m\u001b[38;5;124;43m물건가격\u001b[39;49m\u001b[38;5;124;43m'\u001b[39;49m\u001b[43m)\u001b[49m\u001b[43m)\u001b[49m\n\u001b[0;32m      2\u001b[0m num \u001b[38;5;241m=\u001b[39m \u001b[38;5;28mint\u001b[39m(\u001b[38;5;28minput\u001b[39m(\u001b[38;5;124m'\u001b[39m\u001b[38;5;124m구매개수\u001b[39m\u001b[38;5;124m'\u001b[39m))\n\u001b[0;32m      3\u001b[0m pay \u001b[38;5;241m=\u001b[39m \u001b[38;5;28mint\u001b[39m(\u001b[38;5;28minput\u001b[39m(\u001b[38;5;124m'\u001b[39m\u001b[38;5;124m지불금액\u001b[39m\u001b[38;5;124m'\u001b[39m))\n",
      "\u001b[1;31mValueError\u001b[0m: invalid literal for int() with base 10: ''"
     ]
    }
   ],
   "source": [
    "price = int(input('물건가격'))\n",
    "num = int(input('구매개수'))\n",
    "pay = int(input('지불금액'))\n",
    "change = pay - price * num\n",
    "print('물건가격 : %d, 구매개수 %d, 지불금액 %d => 거스름돈 %d' %(price,num,pay,change))"
   ]
  },
  {
   "cell_type": "code",
   "execution_count": 15,
   "id": "b783ea7e",
   "metadata": {},
   "outputs": [
    {
     "ename": "SyntaxError",
     "evalue": "invalid syntax (1428903980.py, line 6)",
     "output_type": "error",
     "traceback": [
      "\u001b[1;36m  Cell \u001b[1;32mIn[15], line 6\u001b[1;36m\u001b[0m\n\u001b[1;33m    comp kor >= 70 or eng >= 90\u001b[0m\n\u001b[1;37m         ^\u001b[0m\n\u001b[1;31mSyntaxError\u001b[0m\u001b[1;31m:\u001b[0m invalid syntax\n"
     ]
    }
   ],
   "source": [
    "#논리 연산자 & || ! => and or not\n",
    "kor = 60\n",
    "eng = 90\n",
    "comp = kor >= 70 and eng >= 90\n",
    "print('comp type:'+str(type(comp)+ ',value :' + str(comp)))\n",
    "comp kor >= 70 or eng >= 90\n",
    "print('comp type:'+str(type(comp)+ ',value :' + str(comp)))\n",
    "comp = kor = 70\n",
    "print('comp type:'+str(type(comp)+ ',value :' + str(comp)))\n",
    "comp = not kor == 70\n",
    "print('comp type:'+str(type(comp)+ ',value :' + str(comp)))\n",
    "\n",
    "x = 5\n",
    "comp = x%2 == 0\n",
    "comp = kor = 70\n",
    "print('comp type:'+str(type(comp)+ ',value :' + str(comp)))\n",
    "\n"
   ]
  },
  {
   "cell_type": "code",
   "execution_count": 16,
   "id": "fbac9b53",
   "metadata": {},
   "outputs": [
    {
     "name": "stdout",
     "output_type": "stream",
     "text": [
      "정수를 입력하세요\n"
     ]
    },
    {
     "ename": "ValueError",
     "evalue": "invalid literal for int() with base 10: ''",
     "output_type": "error",
     "traceback": [
      "\u001b[1;31m---------------------------------------------------------------------------\u001b[0m",
      "\u001b[1;31mValueError\u001b[0m                                Traceback (most recent call last)",
      "Cell \u001b[1;32mIn[16], line 2\u001b[0m\n\u001b[0;32m      1\u001b[0m num \u001b[38;5;241m=\u001b[39m \u001b[38;5;28minput\u001b[39m(\u001b[38;5;124m\"\u001b[39m\u001b[38;5;124m정수를 입력하세요\u001b[39m\u001b[38;5;124m\"\u001b[39m)\n\u001b[1;32m----> 2\u001b[0m num \u001b[38;5;241m=\u001b[39m \u001b[38;5;28;43mint\u001b[39;49m\u001b[43m(\u001b[49m\u001b[43mnum\u001b[49m\u001b[43m)\u001b[49m\n\u001b[0;32m      3\u001b[0m \u001b[38;5;28mprint\u001b[39m(\u001b[38;5;124m\"\u001b[39m\u001b[38;5;124m입력된 정수 :\u001b[39m\u001b[38;5;124m\"\u001b[39m,num)\n\u001b[0;32m      4\u001b[0m \u001b[38;5;28;01mif\u001b[39;00m num \u001b[38;5;241m>\u001b[39m\u001b[38;5;241m=\u001b[39m \u001b[38;5;241m100\u001b[39m \u001b[38;5;129;01mand\u001b[39;00m num \u001b[38;5;241m<\u001b[39m\u001b[38;5;241m=\u001b[39m \u001b[38;5;241m1000\u001b[39m: \n",
      "\u001b[1;31mValueError\u001b[0m: invalid literal for int() with base 10: ''"
     ]
    }
   ],
   "source": [
    "num = input(\"정수를 입력하세요\")\n",
    "num = int(num)\n",
    "print(\"입력된 정수 :\",num)\n",
    "if num >= 100 and num <= 1000: \n",
    "    print(\"입력된 정수는 100~1000사이에 있습니다\")\n",
    "\n",
    "else :\n",
    "    print(\"입력된 정수는 100~1000사이에 존재하지 않습니다\")\n",
    "\n"
   ]
  },
  {
   "cell_type": "code",
   "execution_count": 17,
   "id": "08b60ec0",
   "metadata": {},
   "outputs": [
    {
     "name": "stdout",
     "output_type": "stream",
     "text": [
      "영어 소문자 하나를 입력하세요\n",
      " -> 자음\n"
     ]
    }
   ],
   "source": [
    "char = input(\"영어 소문자 하나를 입력하세요\")\n",
    "if(char == 'a' or char == 'e' or char == 'i' or char == 'o' or char =='u'):\n",
    "    print('%s -> 모음' % char)\n",
    "else:\n",
    "    print('%s -> 자음' % char)\n",
    "        \n"
   ]
  },
  {
   "cell_type": "code",
   "execution_count": 18,
   "id": "c243ed03",
   "metadata": {},
   "outputs": [
    {
     "name": "stdout",
     "output_type": "stream",
     "text": [
      "월을 입력하세요 :\n"
     ]
    },
    {
     "ename": "ValueError",
     "evalue": "invalid literal for int() with base 10: ''",
     "output_type": "error",
     "traceback": [
      "\u001b[1;31m---------------------------------------------------------------------------\u001b[0m",
      "\u001b[1;31mValueError\u001b[0m                                Traceback (most recent call last)",
      "Cell \u001b[1;32mIn[18], line 1\u001b[0m\n\u001b[1;32m----> 1\u001b[0m month \u001b[38;5;241m=\u001b[39m \u001b[38;5;28;43mint\u001b[39;49m\u001b[43m(\u001b[49m\u001b[38;5;28;43minput\u001b[39;49m\u001b[43m(\u001b[49m\u001b[38;5;124;43m\"\u001b[39;49m\u001b[38;5;124;43m월을 입력하세요 :\u001b[39;49m\u001b[38;5;124;43m\"\u001b[39;49m\u001b[43m)\u001b[49m\u001b[43m)\u001b[49m\n\u001b[0;32m      3\u001b[0m \u001b[38;5;28;01mif\u001b[39;00m month \u001b[38;5;241m>\u001b[39m\u001b[38;5;241m=\u001b[39m \u001b[38;5;241m3\u001b[39m \u001b[38;5;129;01mand\u001b[39;00m month \u001b[38;5;241m<\u001b[39m\u001b[38;5;241m=\u001b[39m \u001b[38;5;241m5\u001b[39m:\n\u001b[0;32m      4\u001b[0m     season \u001b[38;5;241m=\u001b[39m \u001b[38;5;124m'\u001b[39m\u001b[38;5;124m봄\u001b[39m\u001b[38;5;124m'\u001b[39m\n",
      "\u001b[1;31mValueError\u001b[0m: invalid literal for int() with base 10: ''"
     ]
    }
   ],
   "source": [
    "month = int(input(\"월을 입력하세요 :\"))\n",
    "\n",
    "if month >= 3 and month <= 5:\n",
    "    season = '봄'\n",
    "    print(month, '월은' ,season,'입니다' )\n",
    "elif month >= 6 and month <= 8:\n",
    "    season = '여름'\n",
    "    print(month, '월은' ,season,'입니다')\n",
    "elif month >= 9 and month <= 11:\n",
    "    season = '가을'\n",
    "    print(month, '월은' ,season,'입니다')\n",
    "elif month ==12  or month ==1 or month ==2 :\n",
    "    season = '겨울'\n",
    "    print(month, '월은' ,season,'입니다')\n",
    "else:\n",
    "    print(\"몰라\")"
   ]
  },
  {
   "cell_type": "markdown",
   "id": "5146a453",
   "metadata": {},
   "source": [
    "for x in range(5):\n",
    "    print(\"집 가고 싶다\")\n",
    "    "
   ]
  },
  {
   "cell_type": "code",
   "execution_count": 19,
   "id": "f255faa4",
   "metadata": {},
   "outputs": [],
   "source": [
    "#반복문... for, while"
   ]
  },
  {
   "cell_type": "code",
   "execution_count": 20,
   "id": "b91f5883",
   "metadata": {},
   "outputs": [
    {
     "name": "stdout",
     "output_type": "stream",
     "text": [
      "hello world\n",
      "hello world\n",
      "hello world\n",
      "hello world\n",
      "hello world\n",
      "apple\n",
      "banana\n"
     ]
    }
   ],
   "source": [
    "cnt = 5\n",
    "for i in range(cnt):\n",
    "    print(\"hello world\")\n",
    "fruits = ['apple','banana','cherry']\n",
    "for fruit in fruits:\n",
    "    print(fruit)\n",
    "    if fruit == 'banana':\n",
    "        break;"
   ]
  },
  {
   "cell_type": "code",
   "execution_count": 21,
   "id": "550f7d0e",
   "metadata": {},
   "outputs": [
    {
     "ename": "NameError",
     "evalue": "name 'y' is not defined",
     "output_type": "error",
     "traceback": [
      "\u001b[1;31m---------------------------------------------------------------------------\u001b[0m",
      "\u001b[1;31mNameError\u001b[0m                                 Traceback (most recent call last)",
      "Cell \u001b[1;32mIn[21], line 2\u001b[0m\n\u001b[0;32m      1\u001b[0m \u001b[38;5;28;01mfor\u001b[39;00m x \u001b[38;5;129;01min\u001b[39;00m \u001b[38;5;28mrange\u001b[39m(\u001b[38;5;241m1\u001b[39m, \u001b[38;5;241m10\u001b[39m):\n\u001b[1;32m----> 2\u001b[0m     \u001b[38;5;28mprint\u001b[39m(\u001b[38;5;28mstr\u001b[39m(\u001b[43my\u001b[49m) \u001b[38;5;241m+\u001b[39m \u001b[38;5;124m\"\u001b[39m\u001b[38;5;124m단\u001b[39m\u001b[38;5;124m\"\u001b[39m)\n\u001b[0;32m      3\u001b[0m     \u001b[38;5;28;01mfor\u001b[39;00m y \u001b[38;5;129;01min\u001b[39;00m \u001b[38;5;28mrange\u001b[39m(\u001b[38;5;241m2\u001b[39m, \u001b[38;5;241m10\u001b[39m):\n\u001b[0;32m      4\u001b[0m         \u001b[38;5;28mprint\u001b[39m(y, \u001b[38;5;124m\"\u001b[39m\u001b[38;5;124mX\u001b[39m\u001b[38;5;124m\"\u001b[39m, x, \u001b[38;5;124m\"\u001b[39m\u001b[38;5;124m=\u001b[39m\u001b[38;5;124m\"\u001b[39m, x\u001b[38;5;241m*\u001b[39my, end \u001b[38;5;241m=\u001b[39m \u001b[38;5;124m\"\u001b[39m\u001b[38;5;124m \u001b[39m\u001b[38;5;124m\"\u001b[39m)\n",
      "\u001b[1;31mNameError\u001b[0m: name 'y' is not defined"
     ]
    }
   ],
   "source": [
    "for x in range(1, 10):\n",
    "    print(str(y) + \"단\")\n",
    "    for y in range(2, 10):\n",
    "        print(y, \"X\", x, \"=\", x*y, end = \" \")"
   ]
  },
  {
   "cell_type": "code",
   "execution_count": 22,
   "id": "4c3eea7e",
   "metadata": {},
   "outputs": [],
   "source": [
    "# LIST"
   ]
  },
  {
   "cell_type": "code",
   "execution_count": 23,
   "id": "fae670c2",
   "metadata": {},
   "outputs": [
    {
     "name": "stdout",
     "output_type": "stream",
     "text": [
      "사자\n",
      "==================================================\n",
      "호랑이\n",
      "==================================================\n",
      "원숭이\n",
      "==================================================\n",
      "곰\n",
      "==================================================\n",
      "사슴\n",
      "==================================================\n",
      "['무궁화', '장미', '개나리']\n",
      "['무궁화', '장미', '개나리', '벚꽃']\n",
      "['무궁화', '개나리', '벚꽃']\n"
     ]
    }
   ],
   "source": [
    "animals = ['사자','호랑이','원숭이','곰','사슴']\n",
    "i = 0;\n",
    "while i < len(animals):\n",
    "    print(animals[i])\n",
    "    i = i+1\n",
    "    print('='*50)\n",
    "flower =['무궁화','장미','개나리']\n",
    "print(flower)\n",
    "flower.append('벚꽃')\n",
    "print(flower)\n",
    "flower.remove('장미')\n",
    "print(flower)"
   ]
  },
  {
   "cell_type": "code",
   "execution_count": 24,
   "id": "f4619435",
   "metadata": {},
   "outputs": [
    {
     "name": "stdout",
     "output_type": "stream",
     "text": [
      "성적을 입력하세요(종료시 -1 입력):\n"
     ]
    },
    {
     "ename": "ValueError",
     "evalue": "invalid literal for int() with base 10: ''",
     "output_type": "error",
     "traceback": [
      "\u001b[1;31m---------------------------------------------------------------------------\u001b[0m",
      "\u001b[1;31mValueError\u001b[0m                                Traceback (most recent call last)",
      "Cell \u001b[1;32mIn[24], line 4\u001b[0m\n\u001b[0;32m      1\u001b[0m scores \u001b[38;5;241m=\u001b[39m []\n\u001b[0;32m      3\u001b[0m \u001b[38;5;28;01mwhile\u001b[39;00m \u001b[38;5;28;01mTrue\u001b[39;00m:\n\u001b[1;32m----> 4\u001b[0m     x \u001b[38;5;241m=\u001b[39m \u001b[38;5;28;43mint\u001b[39;49m\u001b[43m(\u001b[49m\u001b[38;5;28;43minput\u001b[39;49m\u001b[43m(\u001b[49m\u001b[38;5;124;43m'\u001b[39;49m\u001b[38;5;124;43m성적을 입력하세요(종료시 -1 입력):\u001b[39;49m\u001b[38;5;124;43m'\u001b[39;49m\u001b[43m)\u001b[49m\u001b[43m)\u001b[49m\n\u001b[0;32m      5\u001b[0m     \u001b[38;5;28;01mif\u001b[39;00m x \u001b[38;5;241m==\u001b[39m \u001b[38;5;241m-\u001b[39m\u001b[38;5;241m1\u001b[39m:\n\u001b[0;32m      6\u001b[0m         \u001b[38;5;28;01mbreak\u001b[39;00m\n",
      "\u001b[1;31mValueError\u001b[0m: invalid literal for int() with base 10: ''"
     ]
    }
   ],
   "source": [
    "scores = []\n",
    "\n",
    "while True:\n",
    "    x = int(input('성적을 입력하세요(종료시 -1 입력):'))\n",
    "    if x == -1:\n",
    "        break\n",
    "    else:\n",
    "        scores.append(x)\n",
    "        \n",
    "sum = 0\n",
    "for score in scores:\n",
    "    sum = sum + score\n",
    "\n",
    "avg = sum / len(scores)\n",
    "print('합계: %d, 평균: %.2f' %(sum,avg))"
   ]
  },
  {
   "cell_type": "code",
   "execution_count": 25,
   "id": "4f870ef7",
   "metadata": {},
   "outputs": [
    {
     "name": "stdout",
     "output_type": "stream",
     "text": [
      "['사자', '호랑이', '원숭이', '곰', '사슴']\n",
      "==================================================\n"
     ]
    }
   ],
   "source": [
    "animals = ['사자','호랑이','원숭이','곰','사슴']\n",
    "newlist = []\n",
    "newlist = [x for x in animals]\n",
    "print(newlist)\n",
    "\n",
    "print('='*50)\n",
    "\n",
    "#newlist[x for x in animals if 'a' in x]\n"
   ]
  },
  {
   "cell_type": "code",
   "execution_count": 26,
   "id": "b863262f",
   "metadata": {},
   "outputs": [
    {
     "name": "stdout",
     "output_type": "stream",
     "text": [
      "[[1, 2, 3], [4, 5, 6], [7, 8, 9]]\n",
      "<class 'list'>\n",
      "numbers[0][0] = 1\n",
      "numbers[0][1] = 2\n",
      "numbers[0][2] = 3\n",
      "numbers[1][0] = 4\n",
      "numbers[1][1] = 5\n",
      "numbers[1][2] = 6\n",
      "numbers[2][0] = 7\n",
      "numbers[2][1] = 8\n",
      "numbers[2][2] = 9\n"
     ]
    }
   ],
   "source": [
    "numbers = [[1,2,3],[4,5,6],[7,8,9]]\n",
    "print(numbers)\n",
    "print(type(numbers))\n",
    "\n",
    "#i_len = len(numbers)\n",
    "#j_len = len(numbers[i])\n",
    "#print('low_length :' + str(i_len))\n",
    "#print('col_length :' + str(j_len))\n",
    "for i in range(len(numbers)):\n",
    "    for j in range(len(numbers[i])):\n",
    "        print(f'numbers[{i}][{j}] = {numbers[i][j]}')"
   ]
  },
  {
   "cell_type": "code",
   "execution_count": 27,
   "id": "c5f567c6",
   "metadata": {},
   "outputs": [
    {
     "name": "stdout",
     "output_type": "stream",
     "text": [
      "1번째학생의합계 : 240평균 : 80.00\n",
      "2번째학생의합계 : 155평균 : 51.67\n",
      "3번째학생의합계 : 199평균 : 66.33\n",
      "4번째학생의합계 : 223평균 : 74.33\n",
      "5번째학생의합계 : 208평균 : 69.33\n"
     ]
    }
   ],
   "source": [
    "scores=[\n",
    "    [75,76,89],\n",
    "    [65,45,45],\n",
    "    [45,89,65],\n",
    "    [56,89,78],\n",
    "    [59,53,96]\n",
    "]\n",
    "#print(scores)\n",
    "\n",
    "for x in range(len(scores)):\n",
    "    sum = 0\n",
    "    for y in range(len(scores[x])):\n",
    "        sum = sum + scores[x][y]\n",
    "    mean = sum / len(scores[x])\n",
    "    print(\"%d번째학생의합계 : %d평균 : %.2f\" %(x+1,sum,mean))\n",
    "    \n"
   ]
  },
  {
   "cell_type": "code",
   "execution_count": 28,
   "id": "82368ce6",
   "metadata": {},
   "outputs": [],
   "source": [
    "# 함수\n",
    "\n",
    "def hello():\n",
    "    print('hello function')\n",
    "    "
   ]
  },
  {
   "cell_type": "code",
   "execution_count": 29,
   "id": "8d9586b8",
   "metadata": {},
   "outputs": [
    {
     "name": "stdout",
     "output_type": "stream",
     "text": [
      "hello function\n"
     ]
    }
   ],
   "source": [
    "hello()"
   ]
  },
  {
   "cell_type": "code",
   "execution_count": 30,
   "id": "f4bfe8bb",
   "metadata": {},
   "outputs": [],
   "source": [
    "def hap():\n",
    "    a = int(input('첫번째 수'))\n",
    "    b = int(input('두번째 수'))\n",
    "    print(a + b)\n"
   ]
  },
  {
   "cell_type": "code",
   "execution_count": 31,
   "id": "65f4fa11",
   "metadata": {},
   "outputs": [],
   "source": [
    "def calc(a,b):\n",
    "    \n",
    "    sum = a + b\n",
    "    avg = sum/2\n",
    "    return sum,avg"
   ]
  },
  {
   "cell_type": "code",
   "execution_count": 32,
   "id": "1f0b9dbb",
   "metadata": {
    "scrolled": true
   },
   "outputs": [
    {
     "name": "stdout",
     "output_type": "stream",
     "text": [
      "첫번째 수\n"
     ]
    },
    {
     "ename": "ValueError",
     "evalue": "invalid literal for int() with base 10: ''",
     "output_type": "error",
     "traceback": [
      "\u001b[1;31m---------------------------------------------------------------------------\u001b[0m",
      "\u001b[1;31mValueError\u001b[0m                                Traceback (most recent call last)",
      "Cell \u001b[1;32mIn[32], line 1\u001b[0m\n\u001b[1;32m----> 1\u001b[0m \u001b[43mhap\u001b[49m\u001b[43m(\u001b[49m\u001b[43m)\u001b[49m\n",
      "Cell \u001b[1;32mIn[30], line 2\u001b[0m, in \u001b[0;36mhap\u001b[1;34m()\u001b[0m\n\u001b[0;32m      1\u001b[0m \u001b[38;5;28;01mdef\u001b[39;00m \u001b[38;5;21mhap\u001b[39m():\n\u001b[1;32m----> 2\u001b[0m     a \u001b[38;5;241m=\u001b[39m \u001b[38;5;28;43mint\u001b[39;49m\u001b[43m(\u001b[49m\u001b[38;5;28;43minput\u001b[39;49m\u001b[43m(\u001b[49m\u001b[38;5;124;43m'\u001b[39;49m\u001b[38;5;124;43m첫번째 수\u001b[39;49m\u001b[38;5;124;43m'\u001b[39;49m\u001b[43m)\u001b[49m\u001b[43m)\u001b[49m\n\u001b[0;32m      3\u001b[0m     b \u001b[38;5;241m=\u001b[39m \u001b[38;5;28mint\u001b[39m(\u001b[38;5;28minput\u001b[39m(\u001b[38;5;124m'\u001b[39m\u001b[38;5;124m두번째 수\u001b[39m\u001b[38;5;124m'\u001b[39m))\n\u001b[0;32m      4\u001b[0m     \u001b[38;5;28mprint\u001b[39m(a \u001b[38;5;241m+\u001b[39m b)\n",
      "\u001b[1;31mValueError\u001b[0m: invalid literal for int() with base 10: ''"
     ]
    }
   ],
   "source": [
    "hap()\n"
   ]
  },
  {
   "cell_type": "code",
   "execution_count": 33,
   "id": "1229a380",
   "metadata": {},
   "outputs": [
    {
     "name": "stdout",
     "output_type": "stream",
     "text": [
      "1~10 의 정수의 합계: 55\n",
      "100~200 의 정수의 합계: 15150\n",
      "200~300 의 정수의 합계: 25250\n"
     ]
    }
   ],
   "source": [
    "def sum(start,end):\n",
    "    hap = 0\n",
    "    for i in range(start,end+1):\n",
    "        hap = hap + i\n",
    "    print('%d~%d 의 정수의 합계: %d'%(start,end,hap))\n",
    "\n",
    "sum(1,10)\n",
    "sum(100,200)\n",
    "sum(200,300)"
   ]
  },
  {
   "cell_type": "code",
   "execution_count": 34,
   "id": "21ac91b6",
   "metadata": {},
   "outputs": [
    {
     "name": "stdout",
     "output_type": "stream",
     "text": [
      "smaple.txt 파일쓰기 완료\n"
     ]
    }
   ],
   "source": [
    "file = open('sample.txt', 'w')\n",
    "file.write('안녕하세요 수업중입니다')\n",
    "file.close()\n",
    "print('smaple.txt 파일쓰기 완료')"
   ]
  },
  {
   "cell_type": "code",
   "execution_count": 35,
   "id": "0419dcb8",
   "metadata": {},
   "outputs": [
    {
     "name": "stdout",
     "output_type": "stream",
     "text": [
      "안소영 56 56 56 66 93\n",
      "정예린 45 64 66 46 56\n",
      "김세린 45 64 56 48 89\n",
      "연수정 54 64 56 45 98\n",
      "박지아 45 65 63 48 87\n",
      "\n"
     ]
    }
   ],
   "source": [
    "scores=['안소영 56 56 56 66 93',\n",
    "'정예린 45 64 66 46 56',\n",
    "'김세린 45 64 56 48 89',\n",
    "'연수정 54 64 56 45 98',\n",
    "'박지아 45 65 63 48 87']\n",
    "data=''\n",
    "for item in scores:\n",
    "    data = data + item +'\\n'\n",
    "print(data)\n",
    "    \n",
    "file = open('scores.txt','w')\n",
    "file.write(data)\n",
    "file.close()"
   ]
  },
  {
   "cell_type": "code",
   "execution_count": 36,
   "id": "b549599c",
   "metadata": {},
   "outputs": [
    {
     "name": "stdout",
     "output_type": "stream",
     "text": [
      "<class 'list'>\n",
      "['안소영 56 56 56 66 93\\n', '정예린 45 64 66 46 56\\n', '김세린 45 64 56 48 89\\n', '연수정 54 64 56 45 98\\n', '박지아 45 65 63 48 87\\n']\n",
      "안소영 56 56 56 66 93\n",
      "정예린 45 64 66 46 56\n",
      "김세린 45 64 56 48 89\n",
      "연수정 54 64 56 45 98\n",
      "박지아 45 65 63 48 87\n"
     ]
    }
   ],
   "source": [
    "file = open('scores.txt','r')\n",
    "lines = file.readlines()\n",
    "print(type(lines))\n",
    "print(lines)\n",
    "for line in lines:\n",
    "    print(line, end='')\n",
    "file.close()"
   ]
  },
  {
   "cell_type": "code",
   "execution_count": null,
   "id": "df0659af",
   "metadata": {},
   "outputs": [],
   "source": []
  },
  {
   "cell_type": "markdown",
   "id": "40070689",
   "metadata": {},
   "source": [
    "## Class"
   ]
  },
  {
   "cell_type": "markdown",
   "id": "3f88c716",
   "metadata": {},
   "source": [
    " class [className]:\n",
    "        a #변수\n",
    "        b #변수\n",
    "        def method1():\n",
    "            #문장1\n",
    "            #문장2\n",
    "            #...\n",
    "        def method2():\n",
    "            #문장1\n",
    "            #문장2\n",
    "            #...\n",
    "            "
   ]
  },
  {
   "cell_type": "code",
   "execution_count": 37,
   "id": "76ce6600",
   "metadata": {},
   "outputs": [],
   "source": [
    "class Fruit:\n",
    "    name = 'orange'\n",
    "    color = 'yellow'\n",
    "    \n",
    "    def taste(self):\n",
    "        print('새콤하다')\n",
    "    def vitamin(self):\n",
    "        print('비타민C가 풍부하다.')"
   ]
  },
  {
   "cell_type": "code",
   "execution_count": 38,
   "id": "378aeeeb",
   "metadata": {},
   "outputs": [
    {
     "name": "stdout",
     "output_type": "stream",
     "text": [
      "<__main__.Fruit object at 0x000001EDD11B8CA0>\n",
      "<class '__main__.Fruit'>\n",
      "과일명 : orange\n",
      "색상 : yellow\n",
      "새콤하다\n",
      "비타민C가 풍부하다.\n"
     ]
    }
   ],
   "source": [
    "orange = Fruit()\n",
    "print(orange)\n",
    "print(type(orange))\n",
    "\n",
    "print(f'과일명 : {orange.name}')\n",
    "print(f'색상 : {orange.color}')\n",
    "orange.taste()\n",
    "orange.vitamin()"
   ]
  },
  {
   "cell_type": "markdown",
   "id": "dd99255a",
   "metadata": {},
   "source": [
    "#class CParent\\\n",
    "{\\\n",
    "   &nbsp;&nbsp;&nbsp;&nbsp; int a = 10;\\\n",
    "   &nbsp;&nbsp;&nbsp;&nbsp; int b = 20;\\\n",
    "   &nbsp;&nbsp;&nbsp;&nbsp; //생성자\\\n",
    "   &nbsp;&nbsp;&nbsp;&nbsp; CParent(){cout<<\"Ctor\"<<endl;}\\\n",
    "   &nbsp;&nbsp;&nbsp;&nbsp; //사용자 정의 생성자\\\n",
    "   &nbsp;&nbsp;&nbsp;&nbsp; CParent(/*this*/int a, int  b)\\\n",
    "   &nbsp;&nbsp;&nbsp;&nbsp; {\\\n",
    "   &nbsp;&nbsp;&nbsp;&nbsp;&nbsp;&nbsp;&nbsp;&nbsp;     this.a = a;\\\n",
    "   &nbsp;&nbsp;&nbsp;&nbsp;&nbsp;&nbsp;&nbsp;&nbsp;     this.b = b;\\\n",
    "   &nbsp;&nbsp;&nbsp;&nbsp;&nbsp;&nbsp;&nbsp;&nbsp;     cout<<\"Ctor\"<<endl;\\\n",
    "   &nbsp;&nbsp;&nbsp;&nbsp; }\\\n",
    "   &nbsp;&nbsp;&nbsp;&nbsp; void age(this){}\\\n",
    "   &nbsp;&nbsp;&nbsp;&nbsp; //소멸자\\\n",
    "   &nbsp;&nbsp;&nbsp;&nbsp; ~CParent(){cout<<\"Dtor\"<<endl;}\\\n",
    "}\\    \n",
    "    "
   ]
  },
  {
   "cell_type": "code",
   "execution_count": 39,
   "id": "512b051f",
   "metadata": {},
   "outputs": [],
   "source": [
    "class Circle:\n",
    "    radius = 10\n",
    "    \n",
    "    def getArea(self):\n",
    "        Area = 3.141592*self.radius*self.radius\n",
    "        return Area\n",
    "    \n",
    "    def getCircum(self):\n",
    "        circum = 2*3.141592*self.radius\n",
    "        return circum\n",
    "    \n"
   ]
  },
  {
   "cell_type": "code",
   "execution_count": 40,
   "id": "94d5ebc1",
   "metadata": {},
   "outputs": [
    {
     "name": "stdout",
     "output_type": "stream",
     "text": [
      "반지름 10\n",
      "원의 면적 314.16\n",
      "원주의 길이 62.83\n"
     ]
    }
   ],
   "source": [
    "cir = Circle()\n",
    "\n",
    "print('반지름 %d'%cir.radius)\n",
    "print('원의 면적 %.2f'%cir.getArea())\n",
    "print(f'원주의 길이 {round(cir.getCircum(),2)}')\n"
   ]
  },
  {
   "cell_type": "code",
   "execution_count": 41,
   "id": "9269f315",
   "metadata": {},
   "outputs": [],
   "source": [
    "class Student:\n",
    "    name = '황재호'\n",
    "    kor = 80\n",
    "    eng = 90\n",
    "    math = 100\n",
    "    \n",
    "    def __init__(self, name= '황재호', kor= 80, eng= 90, math= 100):\n",
    "        #코드 작성\n",
    "        self.name=name\n",
    "        self.kor = kor\n",
    "        self.eng = eng\n",
    "        self.math= math\n",
    "    \n",
    "    def getSum(self):\n",
    "        sum = self.kor+self.eng+self.math\n",
    "        return sum\n",
    "    def getAvg(self):\n",
    "        avg = float(self.getSum())/3\n",
    "        return avg"
   ]
  },
  {
   "cell_type": "code",
   "execution_count": 42,
   "id": "cc6194c1",
   "metadata": {},
   "outputs": [
    {
     "name": "stdout",
     "output_type": "stream",
     "text": [
      ":실행결과\n",
      "\n",
      "\n",
      "이름 : 황재호\n",
      "국어 : 80\n",
      "영어 : 90\n",
      "수학 : 100\n",
      "합계 : 270.0\n",
      "평균 : 90.0\n"
     ]
    }
   ],
   "source": [
    "stu = Student()\n",
    "print(':실행결과')\n",
    "print('\\n')\n",
    "print(f'이름 : {stu.name}')\n",
    "print(f'국어 : {stu.kor}')\n",
    "print(f'영어 : {stu.eng}')\n",
    "print(f'수학 : {stu.math}')\n",
    "print(f'합계 : {float(round(stu.getSum(),1))}')\n",
    "print(f'평균 : {stu.getAvg()}')\n"
   ]
  }
 ],
 "metadata": {
  "kernelspec": {
   "display_name": "Python 3 (ipykernel)",
   "language": "python",
   "name": "python3"
  },
  "language_info": {
   "codemirror_mode": {
    "name": "ipython",
    "version": 3
   },
   "file_extension": ".py",
   "mimetype": "text/x-python",
   "name": "python",
   "nbconvert_exporter": "python",
   "pygments_lexer": "ipython3",
   "version": "3.9.16"
  }
 },
 "nbformat": 4,
 "nbformat_minor": 5
}
